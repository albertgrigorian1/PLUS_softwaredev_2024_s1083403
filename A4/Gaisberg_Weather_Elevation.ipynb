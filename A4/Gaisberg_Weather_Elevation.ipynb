{
 "cells": [
  {
   "cell_type": "markdown",
   "id": "1fce3455",
   "metadata": {},
   "source": [
    "# Weather and Elevation Data Retrieval for Gaisberg, Salzburg\n",
    "    \n",
    "This notebook demonstrates how to use custom Python functions to fetch and display weather data (wind speed, temperature, and humidity) and elevation for a specific location, using external APIs."
   ]
  },
  {
   "cell_type": "code",
   "execution_count": 1,
   "id": "bf975573",
   "metadata": {},
   "outputs": [],
   "source": [
    "from script_docstring import get_wind_speed, get_temperature_and_humidity, get_elevation"
   ]
  },
  {
   "cell_type": "markdown",
   "id": "b7852e7a",
   "metadata": {},
   "source": [
    "## Coordinates for Gaisberg, Salzburg\n",
    "\n",
    "We will retrieve data for Gaisberg, Salzburg, which has the following coordinates:\n",
    "- **Latitude:** 47.8043\n",
    "- **Longitude:** 13.1100\n",
    "\n",
    "These coordinates will be used to fetch the wind speed, temperature, humidity, and elevation."
   ]
  },
  {
   "cell_type": "code",
   "execution_count": 2,
   "id": "7a5f7292",
   "metadata": {},
   "outputs": [],
   "source": [
    "latitude = 47.8043\n",
    "longitude = 13.1100"
   ]
  },
  {
   "cell_type": "markdown",
   "id": "ac2830c5",
   "metadata": {},
   "source": [
    "## Retrieve and Display Wind Speed\n",
    "\n",
    "The `get_wind_speed` function is called with the coordinates of Gaisberg to fetch the current wind speed:"
   ]
  },
  {
   "cell_type": "code",
   "execution_count": 3,
   "id": "478de3aa",
   "metadata": {},
   "outputs": [
    {
     "name": "stdout",
     "output_type": "stream",
     "text": [
      "Wind Speed at 47.8043, 13.11: 1.9 m/s\n"
     ]
    }
   ],
   "source": [
    "wind_speed = get_wind_speed(latitude, longitude)\n",
    "print(f\"Wind Speed at {latitude}, {longitude}: {wind_speed} m/s\")"
   ]
  },
  {
   "cell_type": "markdown",
   "id": "56770b9d",
   "metadata": {},
   "source": [
    "## Retrieve and Display Temperature and Humidity\n",
    "\n",
    "Using the `get_temperature_and_humidity` function, we can get both the temperature and the humidity at the specified location. Here's how it is done:"
   ]
  },
  {
   "cell_type": "code",
   "execution_count": 4,
   "id": "5512c278",
   "metadata": {},
   "outputs": [
    {
     "name": "stdout",
     "output_type": "stream",
     "text": [
      "Temperature: 14.7 °C\n",
      "Humidity: 80 %\n"
     ]
    }
   ],
   "source": [
    "temperature_humidity = get_temperature_and_humidity(latitude, longitude)\n",
    "print(f\"Temperature: {temperature_humidity['temperature_celsius']} °C\")\n",
    "print(f\"Humidity: {temperature_humidity['humidity_percent']} %\")"
   ]
  },
  {
   "cell_type": "markdown",
   "id": "774763a6",
   "metadata": {},
   "source": [
    "## Retrieve and Display Elevation\n",
    "\n",
    "Finally, we use the `get_elevation` function to find out the elevation of Gaisberg in Salzburg. The elevation is an important factor for various geographical and climatic studies:"
   ]
  },
  {
   "cell_type": "code",
   "execution_count": 5,
   "id": "57c4d9f5",
   "metadata": {},
   "outputs": [
    {
     "name": "stdout",
     "output_type": "stream",
     "text": [
      "Elevation at 47.8043, 13.11: 1201.0 meters\n"
     ]
    }
   ],
   "source": [
    "elevation = get_elevation(latitude, longitude)\n",
    "print(f\"Elevation at {latitude}, {longitude}: {elevation} meters\")"
   ]
  }
 ],
 "metadata": {
  "kernelspec": {
   "display_name": "Python 3",
   "language": "python",
   "name": "python3"
  },
  "language_info": {
   "codemirror_mode": {
    "name": "ipython",
    "version": 3
   },
   "file_extension": ".py",
   "mimetype": "text/x-python",
   "name": "python",
   "nbconvert_exporter": "python",
   "pygments_lexer": "ipython3",
   "version": "3.10.0"
  }
 },
 "nbformat": 4,
 "nbformat_minor": 5
}
